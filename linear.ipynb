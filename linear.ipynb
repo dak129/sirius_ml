{
 "cells": [
  {
   "cell_type": "code",
   "execution_count": null,
   "metadata": {},
   "outputs": [],
   "source": [
    "'''\n",
    "В рамках проекта этого модуля вам будет необходимо научиться предсказывать с помощью модели линейной регрессии итоговую оценку ученика в году.\n",
    "\n",
    "Для решения задачи есть набор данных с информацией про успеваемость по математике 395\n",
    " учеников двух португальских школ. Каждый ученик описывается большим набором факторов, подробное описание которых приведено дальше. Данные были собраны в период 2005–2006\n",
    " учебного года.\n",
    "\n",
    " P. Cortez and A. Silva. Using Data Mining to Predict Secondary School Student Performance. In A. Brito and J. Teixeira Eds., Proceedings of 5th FUture BUsiness TEChnology Conference (FUBUTEC 2008) pp. 5–12, Porto, Portugal, April, 2008, EUROSIS, ISBN 978-9077381-39-7.\n",
    "'''"
   ]
  },
  {
   "cell_type": "code",
   "execution_count": null,
   "metadata": {},
   "outputs": [],
   "source": [
    "'''\n",
    "Данные для решения проектной задачи представляются в файле student-mat.csv.\n",
    "\n",
    "В Португалии учебный год разбит на три периода обучения поменьше, и в конце каждого из них ученики получают оценку по предмету. Итоговой оценкой по предмету в году считается оценка, полученная в конце третьего периода обучения. Для каждого ученика её значение находится в колонке G3. Именно эту характеристику необходимо научиться предсказывать.\n",
    "\n",
    "Подробное описание остальных факторов приведено ниже. В скобках указан тип и возможные значения каждого фактора.\n",
    "\n",
    "school — школа, в которой учится ученик (бинарный: GP — Gabriel Pereira или MS — Mousinho da Silveira).\n",
    "gender — пол ученика (бинарный: F — женский или M — мужской).\n",
    "age — возраст ученика (численный: от 15 до 22).\n",
    "address — тип местности, в которой живёт ученик (бинарный: U — город или R — пригород).\n",
    "famsize — размер семьи (бинарный: LE3 — «не больше 3 человек» или GT3 — «больше 3 человек»).\n",
    "Pstatus — семейный статус родителей (бинарный: T — «живут вместе» или A — «живут раздельно»).\n",
    "Medu — образование матери (численный: 0 — «нет образования», 1 — «начальная школа» (4 класса), 2 — «от 5 до 9 классов», 3 — «среднее образование» или 4 — «высшее образование»).\n",
    "Fedu — образование отца (численный: 0 — «нет образования», 1 — «начальная школа» (4 класса), 2 — «от 5 до 9 классов», 3 — «среднее образование» или 4 — «высшее образование»).\n",
    "Mjob — работа матери (категориальный: teacher — «учитель», health — «работа в здравоохранении», services — «гражданская служба», at_home — «домохозяйка» или другое — «другое»).\n",
    "Fjob — работа отца (категориальный: teacher — «учитель», health — «работа в здравоохранении», services — «гражданская служба», at_home — «домохозяин» или другое — «другое»).\n",
    "reason — причина выбора этой школы (категориальный: home — «близко к дому», reputation — «репутация школы», course — «выбор предметов» или other — «другое»).\n",
    "guardian — попечитель ученика (категориальный: mother — «мать», father — «отец» или other — «кто-то другой»).\n",
    "traveltime — время в пути от дома до школы (численный: 1 — «меньше 15 минут», 2 — «от 15 до 30 минут», 3 — «от 30 минут до 1 часа» или 4 — «больше 1 часа»).\n",
    "studytime — время на учёбу в неделю (численный: 1 — «меньше 2 часов», 2 — «от 2 до 5 часов», 3 — «от 5 до 10 часов» или 4 — «больше 10 часов»).\n",
    "failures — число незачётов по предмету в прошлом (численный: от 0 до 3).\n",
    "schoolsup — дополнительная образовательная поддержка (бинарный: yes — да или no — нет).\n",
    "famsup — дополнительная семейная поддержка (бинарный: yes — да или no — нет).\n",
    "paid — дополнительные занятия по предмету (бинарный: yes — да или no — нет).\n",
    "activities — внеучебная деятельность (бинарный: yes — да или no — нет).\n",
    "nursery — ходил в подготовительную школу (бинарный: yes — да или no — нет).\n",
    "higher — планирует получать высшее образование (бинарный: yes — да или no — нет).\n",
    "internet — есть доступ к интернету дома (бинарный: yes — да или no — нет).\n",
    "romantic — есть вторая половинка (бинарный: yes — да или no — нет).\n",
    "famrel — отношения в семье (численный: от 1 — «очень плохие» до 5 — «очень хорошие»).\n",
    "freetime — свободное время после школы (численный: от 1 — «очень мало» до 5 — «очень много»).\n",
    "goout — время с друзьями (численный: от 1 — «очень мало» до 5 — «очень много»).\n",
    "health — состояние здоровья (численный: от 1 — «очень плохое» до 5 — «очень хорошее»).\n",
    "absences — число пропусков занятий (численный: от 0 до 93).\n",
    "G1 — оценка за первый учебный период (численный: от 0 до 20).\n",
    "Предсказываемая характеристика:\n",
    "\n",
    "G3 — итоговая оценка (численный: от 0 до 20).\n",
    "'''"
   ]
  },
  {
   "cell_type": "code",
   "execution_count": 1,
   "metadata": {},
   "outputs": [
    {
     "name": "stdout",
     "output_type": "stream",
     "text": [
      "Requirement already satisfied: pandas in c:\\users\\kulikovy\\appdata\\local\\programs\\python\\python37-32\\lib\\site-packages (1.3.5)\n",
      "Requirement already satisfied: python-dateutil>=2.7.3 in c:\\users\\kulikovy\\appdata\\local\\programs\\python\\python37-32\\lib\\site-packages (from pandas) (2.9.0.post0)\n",
      "Requirement already satisfied: pytz>=2017.3 in c:\\users\\kulikovy\\appdata\\local\\programs\\python\\python37-32\\lib\\site-packages (from pandas) (2025.2)\n",
      "Requirement already satisfied: numpy>=1.17.3 in c:\\users\\kulikovy\\appdata\\local\\programs\\python\\python37-32\\lib\\site-packages (from pandas) (1.21.6)\n",
      "Requirement already satisfied: six>=1.5 in c:\\users\\kulikovy\\appdata\\local\\programs\\python\\python37-32\\lib\\site-packages (from python-dateutil>=2.7.3->pandas) (1.17.0)\n",
      "Requirement already satisfied: seaborn in c:\\users\\kulikovy\\appdata\\local\\programs\\python\\python37-32\\lib\\site-packages (0.12.2)\n",
      "Requirement already satisfied: numpy!=1.24.0,>=1.17 in c:\\users\\kulikovy\\appdata\\local\\programs\\python\\python37-32\\lib\\site-packages (from seaborn) (1.21.6)\n",
      "Requirement already satisfied: pandas>=0.25 in c:\\users\\kulikovy\\appdata\\local\\programs\\python\\python37-32\\lib\\site-packages (from seaborn) (1.3.5)\n",
      "Requirement already satisfied: matplotlib!=3.6.1,>=3.1 in c:\\users\\kulikovy\\appdata\\local\\programs\\python\\python37-32\\lib\\site-packages (from seaborn) (3.5.3)\n",
      "Requirement already satisfied: typing_extensions in c:\\users\\kulikovy\\appdata\\local\\programs\\python\\python37-32\\lib\\site-packages (from seaborn) (4.7.1)\n",
      "Requirement already satisfied: cycler>=0.10 in c:\\users\\kulikovy\\appdata\\local\\programs\\python\\python37-32\\lib\\site-packages (from matplotlib!=3.6.1,>=3.1->seaborn) (0.11.0)\n",
      "Requirement already satisfied: fonttools>=4.22.0 in c:\\users\\kulikovy\\appdata\\local\\programs\\python\\python37-32\\lib\\site-packages (from matplotlib!=3.6.1,>=3.1->seaborn) (4.38.0)\n",
      "Requirement already satisfied: kiwisolver>=1.0.1 in c:\\users\\kulikovy\\appdata\\local\\programs\\python\\python37-32\\lib\\site-packages (from matplotlib!=3.6.1,>=3.1->seaborn) (1.4.5)\n",
      "Requirement already satisfied: packaging>=20.0 in c:\\users\\kulikovy\\appdata\\local\\programs\\python\\python37-32\\lib\\site-packages (from matplotlib!=3.6.1,>=3.1->seaborn) (24.0)\n",
      "Requirement already satisfied: pillow>=6.2.0 in c:\\users\\kulikovy\\appdata\\local\\programs\\python\\python37-32\\lib\\site-packages (from matplotlib!=3.6.1,>=3.1->seaborn) (9.5.0)\n",
      "Requirement already satisfied: pyparsing>=2.2.1 in c:\\users\\kulikovy\\appdata\\local\\programs\\python\\python37-32\\lib\\site-packages (from matplotlib!=3.6.1,>=3.1->seaborn) (3.1.4)\n",
      "Requirement already satisfied: python-dateutil>=2.7 in c:\\users\\kulikovy\\appdata\\local\\programs\\python\\python37-32\\lib\\site-packages (from matplotlib!=3.6.1,>=3.1->seaborn) (2.9.0.post0)\n",
      "Requirement already satisfied: pytz>=2017.3 in c:\\users\\kulikovy\\appdata\\local\\programs\\python\\python37-32\\lib\\site-packages (from pandas>=0.25->seaborn) (2025.2)\n",
      "Requirement already satisfied: six>=1.5 in c:\\users\\kulikovy\\appdata\\local\\programs\\python\\python37-32\\lib\\site-packages (from python-dateutil>=2.7->matplotlib!=3.6.1,>=3.1->seaborn) (1.17.0)\n",
      "Requirement already satisfied: numpy in c:\\users\\kulikovy\\appdata\\local\\programs\\python\\python37-32\\lib\\site-packages (1.21.6)\n",
      "Requirement already satisfied: scikit-learn in c:\\users\\kulikovy\\appdata\\local\\programs\\python\\python37-32\\lib\\site-packages (1.0.2)\n",
      "Requirement already satisfied: numpy>=1.14.6 in c:\\users\\kulikovy\\appdata\\local\\programs\\python\\python37-32\\lib\\site-packages (from scikit-learn) (1.21.6)\n",
      "Requirement already satisfied: scipy>=1.1.0 in c:\\users\\kulikovy\\appdata\\local\\programs\\python\\python37-32\\lib\\site-packages (from scikit-learn) (1.7.3)\n",
      "Requirement already satisfied: joblib>=0.11 in c:\\users\\kulikovy\\appdata\\local\\programs\\python\\python37-32\\lib\\site-packages (from scikit-learn) (1.3.2)\n",
      "Requirement already satisfied: threadpoolctl>=2.0.0 in c:\\users\\kulikovy\\appdata\\local\\programs\\python\\python37-32\\lib\\site-packages (from scikit-learn) (3.1.0)\n"
     ]
    }
   ],
   "source": [
    "!pip3 install pandas\n",
    "!pip3 install seaborn\n",
    "!pip3 install numpy\n",
    "!pip3 install scikit-learn"
   ]
  },
  {
   "cell_type": "code",
   "execution_count": 2,
   "metadata": {},
   "outputs": [],
   "source": [
    "import math\n",
    "\n",
    "import pandas as pd\n",
    "import seaborn as sns"
   ]
  },
  {
   "cell_type": "code",
   "execution_count": 3,
   "metadata": {},
   "outputs": [],
   "source": [
    "students = pd.read_csv('student-mat.csv', sep=',')\n",
    "\n",
    "# exclude zeroth grades from data as inadequate ones\n",
    "students = students[students['G3'] != 0]"
   ]
  },
  {
   "cell_type": "code",
   "execution_count": 4,
   "metadata": {},
   "outputs": [],
   "source": [
    "sns.set(rc={'figure.figsize': (11.7, 8.27)})"
   ]
  },
  {
   "cell_type": "code",
   "execution_count": 5,
   "metadata": {},
   "outputs": [
    {
     "name": "stdout",
     "output_type": "stream",
     "text": [
      "357\n"
     ]
    }
   ],
   "source": [
    "X = students.drop(columns=['G3'])\n",
    "y = students['G3']\n",
    "print(len(X))"
   ]
  },
  {
   "cell_type": "code",
   "execution_count": 6,
   "metadata": {},
   "outputs": [],
   "source": [
    "from sklearn.model_selection import train_test_split\n",
    "\n",
    "X_train, X_test, y_train, y_test = train_test_split(X, y, test_size=50, random_state=1)\n"
   ]
  },
  {
   "cell_type": "code",
   "execution_count": 7,
   "metadata": {},
   "outputs": [
    {
     "data": {
      "text/plain": [
       "<AxesSubplot:xlabel='G3', ylabel='Count'>"
      ]
     },
     "execution_count": 7,
     "metadata": {},
     "output_type": "execute_result"
    },
    {
     "data": {
      "image/png": "[encoded data removed]",
      "text/plain": [
       "<Figure size 1170x827 with 1 Axes>"
      ]
     },
     "metadata": {},
     "output_type": "display_data"
    }
   ],
   "source": [
    "sns.histplot(y_train)"
   ]
  },
  {
   "cell_type": "code",
   "execution_count": 8,
   "metadata": {},
   "outputs": [],
   "source": [
    "X_y_train = X_train.copy(deep=True)\n",
    "X_y_train['y'] = y_train"
   ]
  },
  {
   "cell_type": "code",
   "execution_count": 9,
   "metadata": {},
   "outputs": [],
   "source": [
    "mycorr = X_y_train.corr()['y']"
   ]
  },
  {
   "cell_type": "code",
   "execution_count": 10,
   "metadata": {},
   "outputs": [
    {
     "data": {
      "text/plain": [
       "age          -0.149753\n",
       "Medu          0.196975\n",
       "Fedu          0.166073\n",
       "traveltime   -0.115788\n",
       "studytime     0.134976\n",
       "failures     -0.317971\n",
       "famrel        0.076104\n",
       "freetime      0.001402\n",
       "goout        -0.185176\n",
       "health       -0.078703\n",
       "absences     -0.244568\n",
       "G1            0.891892\n",
       "y             1.000000\n",
       "Name: y, dtype: float64"
      ]
     },
     "execution_count": 10,
     "metadata": {},
     "output_type": "execute_result"
    }
   ],
   "source": [
    "mycorr"
   ]
  },
  {
   "cell_type": "code",
   "execution_count": 11,
   "metadata": {},
   "outputs": [
    {
     "data": {
      "text/plain": [
       "age          -0.149753\n",
       "Medu          0.196975\n",
       "Fedu          0.166073\n",
       "traveltime   -0.115788\n",
       "studytime     0.134976\n",
       "failures     -0.317971\n",
       "goout        -0.185176\n",
       "absences     -0.244568\n",
       "G1            0.891892\n",
       "y             1.000000\n",
       "Name: y, dtype: float64"
      ]
     },
     "execution_count": 11,
     "metadata": {},
     "output_type": "execute_result"
    }
   ],
   "source": [
    "mycorr[abs(mycorr) >= 0.1]"
   ]
  },
  {
   "cell_type": "code",
   "execution_count": 12,
   "metadata": {},
   "outputs": [
    {
     "data": {
      "image/png": "[encoded data removed]",
      "text/plain": [
       "<Figure size 1170x827 with 1 Axes>"
      ]
     },
     "metadata": {},
     "output_type": "display_data"
    }
   ],
   "source": [
    "import matplotlib.pyplot as plt\n",
    "\n",
    "# Basic scatter plot\n",
    "sns.scatterplot(data=X_y_train, x='G1', y='y')\n",
    "plt.title('Correlation between G1 and G3')\n",
    "plt.show()"
   ]
  },
  {
   "cell_type": "code",
   "execution_count": 13,
   "metadata": {},
   "outputs": [
    {
     "name": "stderr",
     "output_type": "stream",
     "text": [
      "c:\\Users\\Kulikovy\\AppData\\Local\\Programs\\Python\\Python37-32\\lib\\site-packages\\seaborn\\categorical.py:3544: UserWarning: 6.2% of the points cannot be placed; you may want to decrease the size of the markers or use stripplot.\n",
      "  warnings.warn(msg, UserWarning)\n",
      "c:\\Users\\Kulikovy\\AppData\\Local\\Programs\\Python\\Python37-32\\lib\\site-packages\\seaborn\\categorical.py:3544: UserWarning: 11.7% of the points cannot be placed; you may want to decrease the size of the markers or use stripplot.\n",
      "  warnings.warn(msg, UserWarning)\n"
     ]
    },
    {
     "data": {
      "image/png": "[encoded data removed]",
      "text/plain": [
       "<Figure size 1170x827 with 1 Axes>"
      ]
     },
     "metadata": {},
     "output_type": "display_data"
    }
   ],
   "source": [
    "sns.swarmplot(data=X_y_train, x='failures', y='y')\n",
    "plt.title('Correlation between failures and G3')\n",
    "plt.show()"
   ]
  },
  {
   "cell_type": "code",
   "execution_count": 14,
   "metadata": {},
   "outputs": [
    {
     "name": "stdout",
     "output_type": "stream",
     "text": [
      "Point-Biserial Correlation: 0.105\n",
      "P-value: 0.0667\n"
     ]
    }
   ],
   "source": [
    "from scipy import stats\n",
    "\n",
    "X_train['urban'] = X_train['address'].map({'R': 0, 'U': 1})\n",
    "\n",
    "urban_corr, urban_p_value = stats.pointbiserialr(y_train, X_train['urban'])\n",
    "\n",
    "print(f\"Point-Biserial Correlation: {urban_corr:.3f}\")\n",
    "print(f\"P-value: {urban_p_value:.4f}\")"
   ]
  },
  {
   "cell_type": "code",
   "execution_count": 15,
   "metadata": {},
   "outputs": [
    {
     "name": "stdout",
     "output_type": "stream",
     "text": [
      "Correlation: -0.044769369558874145\n"
     ]
    }
   ],
   "source": [
    "together_mapping = {'A': 0, 'T': 1}\n",
    "X_train['together'] = X_train['Pstatus'].map(together_mapping)\n",
    "together_correlation = y_train.corr(X_train['together'])\n",
    "print(f\"Correlation: {together_correlation}\")"
   ]
  },
  {
   "cell_type": "code",
   "execution_count": null,
   "metadata": {},
   "outputs": [],
   "source": [
    "# address and Pstatus are concluded to be unimportant ones"
   ]
  },
  {
   "cell_type": "code",
   "execution_count": 16,
   "metadata": {},
   "outputs": [
    {
     "name": "stdout",
     "output_type": "stream",
     "text": [
      "famsup\n",
      "Point-Biserial Correlation: -0.093\n",
      "P-value: 0.1052\n",
      "schoolsup\n",
      "Point-Biserial Correlation: -0.251\n",
      "P-value: 0.0000\n",
      "paid\n",
      "Point-Biserial Correlation: -0.033\n",
      "P-value: 0.5660\n",
      "higher\n",
      "Point-Biserial Correlation: 0.097\n",
      "P-value: 0.0909\n",
      "activities\n",
      "Point-Biserial Correlation: 0.071\n",
      "P-value: 0.2146\n",
      "nursery\n",
      "Point-Biserial Correlation: 0.039\n",
      "P-value: 0.5014\n",
      "internet\n",
      "Point-Biserial Correlation: 0.095\n",
      "P-value: 0.0980\n",
      "romantic\n",
      "Point-Biserial Correlation: -0.072\n",
      "P-value: 0.2054\n"
     ]
    }
   ],
   "source": [
    "binaries = ['famsup', 'schoolsup', 'paid', 'higher', 'activities', \\\n",
    "             'nursery', 'internet', 'romantic']\n",
    "\n",
    "for binary in binaries:\n",
    "    bin_train = X_train[binary].map({'no': 0, 'yes': 1})\n",
    "    corr, p_value = stats.pointbiserialr(y_train, bin_train)\n",
    "    print(binary)\n",
    "    print(f\"Point-Biserial Correlation: {corr:.3f}\")\n",
    "    print(f\"P-value: {p_value:.4f}\")"
   ]
  },
  {
   "cell_type": "code",
   "execution_count": 17,
   "metadata": {},
   "outputs": [],
   "source": [
    "X_train['up'] = X_train['schoolsup'].map({'no': 0, 'yes': 1})"
   ]
  },
  {
   "cell_type": "code",
   "execution_count": 18,
   "metadata": {},
   "outputs": [],
   "source": [
    "# schoolsup is concluded to be an important factor"
   ]
  },
  {
   "cell_type": "code",
   "execution_count": 19,
   "metadata": {},
   "outputs": [
    {
     "name": "stdout",
     "output_type": "stream",
     "text": [
      "Correlation: 0.027007680118868546\n"
     ]
    }
   ],
   "source": [
    "# One-hot encode 'Mjob' column\n",
    "X_train_mjob = pd.get_dummies(X_train, columns=['Mjob'], prefix='Mjob')\n",
    "correlation = y_train.corr(X_train_mjob['Mjob_teacher'])\n",
    "print(f\"Correlation: {correlation}\")"
   ]
  },
  {
   "cell_type": "code",
   "execution_count": 20,
   "metadata": {},
   "outputs": [
    {
     "name": "stdout",
     "output_type": "stream",
     "text": [
      "Correlation: 0.13393800972258538\n"
     ]
    }
   ],
   "source": [
    "# One-hot encode 'Fjob' column\n",
    "X_train_mjob = pd.get_dummies(X_train, columns=['Fjob'], prefix='Fjob')\n",
    "correlation = y_train.corr(X_train_mjob['Fjob_teacher'])\n",
    "print(f\"Correlation: {correlation}\")"
   ]
  },
  {
   "cell_type": "code",
   "execution_count": 22,
   "metadata": {},
   "outputs": [
    {
     "name": "stdout",
     "output_type": "stream",
     "text": [
      "49\n",
      "23\n"
     ]
    }
   ],
   "source": [
    "print(len(X_train[X_train['Mjob'] == 'teacher']))\n",
    "print(len(X_train[X_train['Fjob'] == 'teacher']))\n",
    "\n",
    "# teachers' children are not rare, but do not differ signifiantly from others"
   ]
  },
  {
   "cell_type": "code",
   "execution_count": 23,
   "metadata": {},
   "outputs": [],
   "source": [
    "X_train['losttime'] =  X_train['traveltime'] + X_train['goout']"
   ]
  },
  {
   "cell_type": "code",
   "execution_count": 26,
   "metadata": {},
   "outputs": [],
   "source": [
    "# Two factors with negative correlations are added"
   ]
  },
  {
   "cell_type": "code",
   "execution_count": 27,
   "metadata": {},
   "outputs": [
    {
     "name": "stdout",
     "output_type": "stream",
     "text": [
      "Correlation: -0.21350136103431408\n"
     ]
    }
   ],
   "source": [
    "correlation = y_train.corr(X_train['losttime'])\n",
    "print(f\"Correlation: {correlation}\")"
   ]
  },
  {
   "cell_type": "code",
   "execution_count": 28,
   "metadata": {},
   "outputs": [],
   "source": [
    "from sklearn.preprocessing import MinMaxScaler\n",
    "\n",
    "# Important factors of our model\n",
    "columns_to_scale = ['G1', 'failures', 'up', 'absences', 'losttime']\n",
    "\n",
    "# Create scaler\n",
    "scaler = MinMaxScaler()\n",
    "\n",
    "# Fit and transform selected columns\n",
    "X_train_short = scaler.fit_transform(X_train[columns_to_scale])"
   ]
  },
  {
   "cell_type": "code",
   "execution_count": 29,
   "metadata": {},
   "outputs": [
    {
     "data": {
      "text/plain": [
       "LinearRegression()"
      ]
     },
     "execution_count": 29,
     "metadata": {},
     "output_type": "execute_result"
    }
   ],
   "source": [
    "from sklearn.linear_model import LinearRegression\n",
    "\n",
    "model = LinearRegression()\n",
    "model.fit(X_train_short, y_train)"
   ]
  },
  {
   "cell_type": "code",
   "execution_count": 30,
   "metadata": {},
   "outputs": [
    {
     "name": "stdout",
     "output_type": "stream",
     "text": [
      "Training MSE: 1.9957\n"
     ]
    }
   ],
   "source": [
    "y_train_pred = model.predict(X_train_short)\n",
    "train_mse = ((y_train - y_train_pred) ** 2).mean()\n",
    "print(f\"Training MSE: {train_mse:.4f}\")"
   ]
  },
  {
   "cell_type": "code",
   "execution_count": 31,
   "metadata": {},
   "outputs": [
    {
     "name": "stdout",
     "output_type": "stream",
     "text": [
      "Coefficients: [13.93298007  0.1284195  -0.133856   -2.88325416 -0.71482983]\n",
      "Intercept: 4.942794077115755\n",
      "0.8105836876611587\n"
     ]
    }
   ],
   "source": [
    "# Print parameters\n",
    "print(\"Coefficients:\", model.coef_)\n",
    "print(\"Intercept:\", model.intercept_)\n",
    "print(model.score(X_train_short, y_train))"
   ]
  },
  {
   "cell_type": "code",
   "execution_count": 32,
   "metadata": {},
   "outputs": [],
   "source": [
    "X_test['losttime'] =  X_test['traveltime'] + X_test['goout']\n",
    "X_test['up'] = X_test['schoolsup'].map({'no': 0, 'yes': 1})\n",
    "columns_to_scale = ['G1', 'failures', 'up', 'absences', 'losttime']\n",
    "X_test_short = scaler.fit_transform(X_test[columns_to_scale])"
   ]
  },
  {
   "cell_type": "code",
   "execution_count": 33,
   "metadata": {},
   "outputs": [
    {
     "name": "stdout",
     "output_type": "stream",
     "text": [
      "Testing MSE: 3.4592\n"
     ]
    }
   ],
   "source": [
    "y_test_pred = model.predict(X_test_short)\n",
    "test_mse = ((y_test - y_test_pred) ** 2).mean()\n",
    "print(f\"Testing MSE: {test_mse:.4f}\")"
   ]
  },
  {
   "cell_type": "code",
   "execution_count": 34,
   "metadata": {},
   "outputs": [
    {
     "name": "stdout",
     "output_type": "stream",
     "text": [
      "0.6309980619217861\n"
     ]
    }
   ],
   "source": [
    "print(model.score(X_test_short, y_test))"
   ]
  },
  {
   "cell_type": "code",
   "execution_count": 35,
   "metadata": {},
   "outputs": [
    {
     "name": "stdout",
     "output_type": "stream",
     "text": [
      "50\n"
     ]
    }
   ],
   "source": [
    "from sklearn.utils import resample\n",
    "\n",
    "# Number of bootstrap iterations\n",
    "n_iterations = 1000\n",
    "\n",
    "# Arrays to store coefficients\n",
    "coefs = []\n",
    "intercepts = []\n",
    "\n",
    "X_sample_0, y_sample_0 = resample(X_test_short, y_test, replace=True)\n",
    "print(len(y_sample_0))\n",
    "\n",
    "for _ in range(n_iterations):\n",
    "    # Create bootstrap sample (with replacement)\n",
    "    X_sample, y_sample = resample(X_test_short, y_test, replace=True)\n",
    "    \n",
    "    # Fit model\n",
    "    model = LinearRegression().fit(X_sample, y_sample)\n",
    "    \n",
    "    # Store coefficients\n",
    "    coefs.append(model.coef_)\n",
    "    intercepts.append(model.intercept_)"
   ]
  },
  {
   "cell_type": "code",
   "execution_count": 36,
   "metadata": {},
   "outputs": [
    {
     "name": "stdout",
     "output_type": "stream",
     "text": [
      "Coefficients mean: [10.2518217  -0.96995607  1.20296787 -1.10071192 -0.7135844 ]\n",
      "Coefficients 75% CI: [[ 9.30747383e+00 -2.34511279e+00 -9.02056208e-16 -2.22479105e+00\n",
      "  -1.91798285e+00]\n",
      " [ 1.12126380e+01  6.27821896e-01  2.75291609e+00 -1.11739293e-01\n",
      "   4.98282486e-01]]\n",
      "Intercept mean: 7.295869616039496\n",
      "Intercept 75% CI: [6.47166685 8.10864535]\n"
     ]
    }
   ],
   "source": [
    "import numpy as np\n",
    "\n",
    "# Convert to numpy arrays for easier calculations\n",
    "coefs = np.array(coefs)\n",
    "intercepts = np.array(intercepts)\n",
    "\n",
    "# Calculate statistics\n",
    "print(\"Coefficients mean:\", np.mean(coefs, axis=0))\n",
    "print(\"Coefficients 75% CI:\", np.percentile(coefs, [12.5, 87.5], axis=0))\n",
    "print(\"Intercept mean:\", np.mean(intercepts))\n",
    "print(\"Intercept 75% CI:\", np.percentile(intercepts, [12.5, 87.5]))"
   ]
  },
  {
   "cell_type": "code",
   "execution_count": null,
   "metadata": {},
   "outputs": [],
   "source": [
    "# Linear regression derived:\n",
    "# G3 = 7.30 + 10.25 * G1 - 0.96 * failures + 1.20 * schoolsup\n",
    "#    - 1.10 * absences - 0.71 * (traveltime + goout)\n",
    "#\n",
    "# where all factors are rescaled to (0; 1) range.\n",
    "'''\n",
    "Определяющим для предсказания годовой оценки G3 является фактор\n",
    "оценки за первый триместр G1. \n",
    "\n",
    "Следущие по величине - бинарный фактор дополнительной образовательной поддержки\n",
    "schoolsup и число пропусков занятий absences. Наличие дополнительной образовательной \n",
    "поддержки ведет к росту годовой оценки, повышения числа пропусков занятий - \n",
    "к падению оценки.\n",
    "\n",
    "Для оставшихся факторов: числа провалов на экзаменах failures и времени на дорогу и на\n",
    "прогулки (traveltime + goout) полученные отрицательные средние значения\n",
    "надо принимать с осторожностью, как это следует из доверительных интервалов выше.   \n",
    "'''"
   ]
  }
 ],
 "metadata": {
  "kernelspec": {
   "display_name": "Python 3.7.9 32-bit",
   "language": "python",
   "name": "python3"
  },
  "language_info": {
   "codemirror_mode": {
    "name": "ipython",
    "version": 3
   },
   "file_extension": ".py",
   "mimetype": "text/x-python",
   "name": "python",
   "nbconvert_exporter": "python",
   "pygments_lexer": "ipython3",
   "version": "3.7.9"
  },
  "orig_nbformat": 4,
  "vscode": {
   "interpreter": {
    "hash": "6b3ffb60f206f541cce526667604b9f1806d12d4bc4e7cfb4acd3a1ce9fe7a97"
   }
  }
 },
 "nbformat": 4,
 "nbformat_minor": 2
}
